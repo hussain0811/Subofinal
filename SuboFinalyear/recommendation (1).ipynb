{
 "cells": [
  {
   "cell_type": "code",
   "execution_count": 1,
   "metadata": {
    "id": "Yrfs3a4UYujf"
   },
   "outputs": [],
   "source": [
    "import numpy as nm    \n",
    "import matplotlib.pyplot as mtp\n",
    "import pandas as pd\n",
    "import numpy as np\n",
    "from sklearn.metrics.pairwise import linear_kernel, cosine_similarity\n",
    "from sklearn.ensemble import RandomForestClassifier\n",
    "from sklearn.model_selection import train_test_split\n",
    "from sklearn.metrics import accuracy_score\n",
    "import difflib"
   ]
  },
  {
   "cell_type": "code",
   "execution_count": 2,
   "metadata": {
    "colab": {
     "base_uri": "https://localhost:8080/",
     "height": 424
    },
    "id": "dn-JLpgsYyBp",
    "outputId": "7b1f0ca3-249c-4217-83e4-b67517878b35"
   },
   "outputs": [
    {
     "data": {
      "text/html": [
       "<div>\n",
       "<style scoped>\n",
       "    .dataframe tbody tr th:only-of-type {\n",
       "        vertical-align: middle;\n",
       "    }\n",
       "\n",
       "    .dataframe tbody tr th {\n",
       "        vertical-align: top;\n",
       "    }\n",
       "\n",
       "    .dataframe thead th {\n",
       "        text-align: right;\n",
       "    }\n",
       "</style>\n",
       "<table border=\"1\" class=\"dataframe\">\n",
       "  <thead>\n",
       "    <tr style=\"text-align: right;\">\n",
       "      <th></th>\n",
       "      <th>Food_items</th>\n",
       "      <th>Breakfast</th>\n",
       "      <th>Lunch</th>\n",
       "      <th>Dinner</th>\n",
       "      <th>Calories</th>\n",
       "      <th>Fats</th>\n",
       "      <th>Proteins</th>\n",
       "      <th>Iron</th>\n",
       "      <th>Calcium</th>\n",
       "      <th>Sodium</th>\n",
       "      <th>Potassium</th>\n",
       "      <th>Carbohydrates</th>\n",
       "      <th>Fibre</th>\n",
       "      <th>VitaminD</th>\n",
       "      <th>Sugars</th>\n",
       "    </tr>\n",
       "  </thead>\n",
       "  <tbody>\n",
       "    <tr>\n",
       "      <th>0</th>\n",
       "      <td>Asparagus Cooked</td>\n",
       "      <td>0</td>\n",
       "      <td>1</td>\n",
       "      <td>1</td>\n",
       "      <td>22</td>\n",
       "      <td>0.2</td>\n",
       "      <td>2.40</td>\n",
       "      <td>0.91</td>\n",
       "      <td>23.0</td>\n",
       "      <td>14</td>\n",
       "      <td>224.0</td>\n",
       "      <td>4.10</td>\n",
       "      <td>2.0</td>\n",
       "      <td>0</td>\n",
       "      <td>1.3</td>\n",
       "    </tr>\n",
       "    <tr>\n",
       "      <th>1</th>\n",
       "      <td>Avocados</td>\n",
       "      <td>1</td>\n",
       "      <td>0</td>\n",
       "      <td>0</td>\n",
       "      <td>160</td>\n",
       "      <td>15.0</td>\n",
       "      <td>2.00</td>\n",
       "      <td>0.55</td>\n",
       "      <td>12.0</td>\n",
       "      <td>7</td>\n",
       "      <td>485.0</td>\n",
       "      <td>8.50</td>\n",
       "      <td>6.7</td>\n",
       "      <td>0</td>\n",
       "      <td>0.7</td>\n",
       "    </tr>\n",
       "    <tr>\n",
       "      <th>2</th>\n",
       "      <td>Bananas</td>\n",
       "      <td>1</td>\n",
       "      <td>0</td>\n",
       "      <td>0</td>\n",
       "      <td>89</td>\n",
       "      <td>0.3</td>\n",
       "      <td>1.10</td>\n",
       "      <td>0.26</td>\n",
       "      <td>5.0</td>\n",
       "      <td>1</td>\n",
       "      <td>358.0</td>\n",
       "      <td>23.00</td>\n",
       "      <td>2.6</td>\n",
       "      <td>0</td>\n",
       "      <td>12.0</td>\n",
       "    </tr>\n",
       "    <tr>\n",
       "      <th>3</th>\n",
       "      <td>Bagels made in wheat</td>\n",
       "      <td>0</td>\n",
       "      <td>1</td>\n",
       "      <td>1</td>\n",
       "      <td>250</td>\n",
       "      <td>1.5</td>\n",
       "      <td>10.00</td>\n",
       "      <td>2.76</td>\n",
       "      <td>20.0</td>\n",
       "      <td>439</td>\n",
       "      <td>165.0</td>\n",
       "      <td>49.00</td>\n",
       "      <td>4.1</td>\n",
       "      <td>0</td>\n",
       "      <td>6.1</td>\n",
       "    </tr>\n",
       "    <tr>\n",
       "      <th>4</th>\n",
       "      <td>Berries</td>\n",
       "      <td>1</td>\n",
       "      <td>0</td>\n",
       "      <td>0</td>\n",
       "      <td>349</td>\n",
       "      <td>0.4</td>\n",
       "      <td>14.00</td>\n",
       "      <td>6.80</td>\n",
       "      <td>190.0</td>\n",
       "      <td>298</td>\n",
       "      <td>77.0</td>\n",
       "      <td>77.00</td>\n",
       "      <td>13.0</td>\n",
       "      <td>0</td>\n",
       "      <td>46.0</td>\n",
       "    </tr>\n",
       "    <tr>\n",
       "      <th>...</th>\n",
       "      <td>...</td>\n",
       "      <td>...</td>\n",
       "      <td>...</td>\n",
       "      <td>...</td>\n",
       "      <td>...</td>\n",
       "      <td>...</td>\n",
       "      <td>...</td>\n",
       "      <td>...</td>\n",
       "      <td>...</td>\n",
       "      <td>...</td>\n",
       "      <td>...</td>\n",
       "      <td>...</td>\n",
       "      <td>...</td>\n",
       "      <td>...</td>\n",
       "      <td>...</td>\n",
       "    </tr>\n",
       "    <tr>\n",
       "      <th>85</th>\n",
       "      <td>Strawberry Icecream</td>\n",
       "      <td>0</td>\n",
       "      <td>0</td>\n",
       "      <td>1</td>\n",
       "      <td>192</td>\n",
       "      <td>8.4</td>\n",
       "      <td>3.20</td>\n",
       "      <td>0.21</td>\n",
       "      <td>120.0</td>\n",
       "      <td>60</td>\n",
       "      <td>188.0</td>\n",
       "      <td>28.00</td>\n",
       "      <td>0.9</td>\n",
       "      <td>0</td>\n",
       "      <td>0.0</td>\n",
       "    </tr>\n",
       "    <tr>\n",
       "      <th>86</th>\n",
       "      <td>Marshmallows</td>\n",
       "      <td>0</td>\n",
       "      <td>0</td>\n",
       "      <td>1</td>\n",
       "      <td>318</td>\n",
       "      <td>0.2</td>\n",
       "      <td>1.80</td>\n",
       "      <td>0.23</td>\n",
       "      <td>3.0</td>\n",
       "      <td>80</td>\n",
       "      <td>5.0</td>\n",
       "      <td>81.00</td>\n",
       "      <td>0.1</td>\n",
       "      <td>0</td>\n",
       "      <td>58.0</td>\n",
       "    </tr>\n",
       "    <tr>\n",
       "      <th>87</th>\n",
       "      <td>Chocolate milk</td>\n",
       "      <td>1</td>\n",
       "      <td>0</td>\n",
       "      <td>0</td>\n",
       "      <td>535</td>\n",
       "      <td>30.0</td>\n",
       "      <td>7.70</td>\n",
       "      <td>2.35</td>\n",
       "      <td>189.0</td>\n",
       "      <td>79</td>\n",
       "      <td>372.0</td>\n",
       "      <td>59.00</td>\n",
       "      <td>3.4</td>\n",
       "      <td>0</td>\n",
       "      <td>52.0</td>\n",
       "    </tr>\n",
       "    <tr>\n",
       "      <th>88</th>\n",
       "      <td>Rice Pudding</td>\n",
       "      <td>0</td>\n",
       "      <td>0</td>\n",
       "      <td>1</td>\n",
       "      <td>376</td>\n",
       "      <td>0.1</td>\n",
       "      <td>2.70</td>\n",
       "      <td>1.79</td>\n",
       "      <td>14.0</td>\n",
       "      <td>366</td>\n",
       "      <td>5.0</td>\n",
       "      <td>91.00</td>\n",
       "      <td>0.7</td>\n",
       "      <td>0</td>\n",
       "      <td>0.0</td>\n",
       "    </tr>\n",
       "    <tr>\n",
       "      <th>89</th>\n",
       "      <td>Cornstarch</td>\n",
       "      <td>0</td>\n",
       "      <td>1</td>\n",
       "      <td>1</td>\n",
       "      <td>381</td>\n",
       "      <td>0.2</td>\n",
       "      <td>0.26</td>\n",
       "      <td>0.47</td>\n",
       "      <td>2.0</td>\n",
       "      <td>9</td>\n",
       "      <td>3.0</td>\n",
       "      <td>91.27</td>\n",
       "      <td>0.9</td>\n",
       "      <td>0</td>\n",
       "      <td>0.0</td>\n",
       "    </tr>\n",
       "  </tbody>\n",
       "</table>\n",
       "<p>90 rows × 15 columns</p>\n",
       "</div>"
      ],
      "text/plain": [
       "              Food_items  Breakfast  Lunch  Dinner  Calories  Fats  Proteins  \\\n",
       "0       Asparagus Cooked          0      1       1        22   0.2      2.40   \n",
       "1               Avocados          1      0       0       160  15.0      2.00   \n",
       "2                Bananas          1      0       0        89   0.3      1.10   \n",
       "3   Bagels made in wheat          0      1       1       250   1.5     10.00   \n",
       "4                Berries          1      0       0       349   0.4     14.00   \n",
       "..                   ...        ...    ...     ...       ...   ...       ...   \n",
       "85   Strawberry Icecream          0      0       1       192   8.4      3.20   \n",
       "86          Marshmallows          0      0       1       318   0.2      1.80   \n",
       "87        Chocolate milk          1      0       0       535  30.0      7.70   \n",
       "88          Rice Pudding          0      0       1       376   0.1      2.70   \n",
       "89            Cornstarch          0      1       1       381   0.2      0.26   \n",
       "\n",
       "    Iron  Calcium  Sodium  Potassium  Carbohydrates  Fibre  VitaminD  Sugars  \n",
       "0   0.91     23.0      14      224.0           4.10    2.0         0     1.3  \n",
       "1   0.55     12.0       7      485.0           8.50    6.7         0     0.7  \n",
       "2   0.26      5.0       1      358.0          23.00    2.6         0    12.0  \n",
       "3   2.76     20.0     439      165.0          49.00    4.1         0     6.1  \n",
       "4   6.80    190.0     298       77.0          77.00   13.0         0    46.0  \n",
       "..   ...      ...     ...        ...            ...    ...       ...     ...  \n",
       "85  0.21    120.0      60      188.0          28.00    0.9         0     0.0  \n",
       "86  0.23      3.0      80        5.0          81.00    0.1         0    58.0  \n",
       "87  2.35    189.0      79      372.0          59.00    3.4         0    52.0  \n",
       "88  1.79     14.0     366        5.0          91.00    0.7         0     0.0  \n",
       "89  0.47      2.0       9        3.0          91.27    0.9         0     0.0  \n",
       "\n",
       "[90 rows x 15 columns]"
      ]
     },
     "execution_count": 2,
     "metadata": {},
     "output_type": "execute_result"
    }
   ],
   "source": [
    "dataset = pd.read_csv('input.csv')\n",
    "dataset = dataset.drop(['VegNovVeg'],axis=1)\n",
    "dataset.head(90)"
   ]
  },
  {
   "cell_type": "code",
   "execution_count": 3,
   "metadata": {
    "id": "6kuUYAzplnn7"
   },
   "outputs": [],
   "source": [
    "dataset = dataset.dropna()\n",
    "dataset=dataset.reset_index(drop=True)"
   ]
  },
  {
   "cell_type": "code",
   "execution_count": 4,
   "metadata": {
    "id": "3jt0UXsZ2ZVN"
   },
   "outputs": [],
   "source": [
    "split = dataset.drop([\t'Calories'\t,'Fats',\t'Proteins',\t'Iron',\t'Calcium',\t'Sodium',\t'Potassium',\t'Carbohydrates',\t'Fibre','VitaminD',\t'Sugars'],axis=1)\n",
    "breakfastFood = split[split['Breakfast']==1 ]\n",
    "lunchFood = split[split['Lunch']==1 ]\n",
    "dinnerFood= split[split['Dinner']==1 ]"
   ]
  },
  {
   "cell_type": "code",
   "execution_count": 5,
   "metadata": {
    "id": "SfzEWRU5s8vg"
   },
   "outputs": [],
   "source": [
    "breakfastFood=breakfastFood.drop(['Breakfast','Lunch','Dinner'],axis=1)\n",
    "lunchFood=lunchFood.drop(['Breakfast','Lunch','Dinner'],axis=1)\n",
    "dinnerFood=dinnerFood.drop(['Breakfast','Lunch','Dinner'],axis=1)"
   ]
  },
  {
   "cell_type": "code",
   "execution_count": 6,
   "metadata": {
    "id": "Rz03McO86xfg"
   },
   "outputs": [],
   "source": [
    "fooditemlist=dataset['Food_items']"
   ]
  },
  {
   "cell_type": "code",
   "execution_count": 7,
   "metadata": {
    "colab": {
     "base_uri": "https://localhost:8080/"
    },
    "id": "oLXzRenFyrBU",
    "outputId": "7dab0c70-0126-4f24-a995-ff3fce240fee"
   },
   "outputs": [
    {
     "data": {
      "text/plain": [
       "array([[ 22.  ,   2.4 ],\n",
       "       [160.  ,   2.  ],\n",
       "       [ 89.  ,   1.1 ],\n",
       "       ...,\n",
       "       [295.  ,  12.9 ],\n",
       "       [116.  ,  20.04],\n",
       "       [214.  ,  13.78]])"
      ]
     },
     "execution_count": 7,
     "metadata": {},
     "output_type": "execute_result"
    }
   ],
   "source": [
    "x= dataset.iloc[:,[4,6]].values\n",
    "x"
   ]
  },
  {
   "cell_type": "code",
   "execution_count": 8,
   "metadata": {
    "colab": {
     "base_uri": "https://localhost:8080/"
    },
    "id": "uZh-Fc88Y8-V",
    "outputId": "adc0dac4-1c9f-41cc-9abf-261a5bf4e53c"
   },
   "outputs": [
    {
     "data": {
      "text/plain": [
       "array([[2.200e+01, 2.000e-01, 2.400e+00, ..., 2.000e+00, 0.000e+00,\n",
       "        1.300e+00],\n",
       "       [1.600e+02, 1.500e+01, 2.000e+00, ..., 6.700e+00, 0.000e+00,\n",
       "        7.000e-01],\n",
       "       [8.900e+01, 3.000e-01, 1.100e+00, ..., 2.600e+00, 0.000e+00,\n",
       "        1.200e+01],\n",
       "       ...,\n",
       "       [2.950e+02, 1.600e+01, 1.290e+01, ..., 9.000e-01, 6.000e+00,\n",
       "        1.160e+01],\n",
       "       [1.160e+02, 3.300e+00, 2.004e+01, ..., 0.000e+00, 0.000e+00,\n",
       "        0.000e+00],\n",
       "       [2.140e+02, 8.100e+00, 1.378e+01, ..., 1.300e+00, 0.000e+00,\n",
       "        0.000e+00]])"
      ]
     },
     "execution_count": 8,
     "metadata": {},
     "output_type": "execute_result"
    }
   ],
   "source": [
    "nutrientData = dataset.iloc[:, 4:].values\n",
    "nutrientData"
   ]
  },
  {
   "cell_type": "code",
   "execution_count": 9,
   "metadata": {
    "colab": {
     "base_uri": "https://localhost:8080/",
     "height": 295
    },
    "id": "lqzf9XqlZ83t",
    "outputId": "71c3f875-767e-4334-d737-7530f4baad66"
   },
   "outputs": [
    {
     "data": {
      "image/png": "[encoded data removed]",
      "text/plain": [
       "<Figure size 432x288 with 1 Axes>"
      ]
     },
     "metadata": {
      "needs_background": "light"
     },
     "output_type": "display_data"
    }
   ],
   "source": [
    "#finding optimal number of clusters using the elbow method  \n",
    "from sklearn.cluster import KMeans  \n",
    "wcss_list= []  #Initializing the list for the values of WCSS  \n",
    "  \n",
    "#Using for loop for iterations from 1 to 10.  \n",
    "for i in range(1, 11):  \n",
    "    kmeans = KMeans(n_clusters=i, init='k-means++', random_state= 42)  \n",
    "    kmeans.fit(x)  \n",
    "    wcss_list.append(kmeans.inertia_)  \n",
    "mtp.plot(range(1, 11), wcss_list)  \n",
    "mtp.title('The Elobw Method Graph')  \n",
    "mtp.xlabel('Number of clusters(k)')  \n",
    "mtp.ylabel('wcss_list')  \n",
    "mtp.show()  "
   ]
  },
  {
   "cell_type": "code",
   "execution_count": 10,
   "metadata": {
    "id": "AYqtktg7aF7r"
   },
   "outputs": [],
   "source": [
    "#training the K-means model on a dataset  \n",
    "kmeans = KMeans(n_clusters=3, init='k-means++', random_state= 42)  \n",
    "y_predict= kmeans.fit_predict(x) "
   ]
  },
  {
   "cell_type": "code",
   "execution_count": 11,
   "metadata": {
    "id": "jZpd5Zvv6eMZ"
   },
   "outputs": [],
   "source": [
    "highCaloric=[]\n",
    "midCaloric=[]\n",
    "lowCaloric=[]"
   ]
  },
  {
   "cell_type": "code",
   "execution_count": 12,
   "metadata": {
    "colab": {
     "base_uri": "https://localhost:8080/"
    },
    "id": "I6HKsYBW8RJg",
    "outputId": "4c5d64fc-7c36-4f98-dd8d-3fd9efece53b"
   },
   "outputs": [
    {
     "data": {
      "text/plain": [
       "array([0, 0, 0, ..., 2, 0, 2])"
      ]
     },
     "execution_count": 12,
     "metadata": {},
     "output_type": "execute_result"
    }
   ],
   "source": [
    "y_predict"
   ]
  },
  {
   "cell_type": "code",
   "execution_count": 13,
   "metadata": {
    "id": "y25iQdPg6T5d"
   },
   "outputs": [],
   "source": [
    "for i in range(len(y_predict)):\n",
    "  if y_predict[i]==2:\n",
    "    midCaloric.append(fooditemlist[i])\n",
    "  if y_predict[i]==0:\n",
    "    highCaloric.append(fooditemlist[i])\n",
    "  if y_predict[i]==1:\n",
    "    lowCaloric.append(fooditemlist[i])"
   ]
  },
  {
   "cell_type": "code",
   "execution_count": 14,
   "metadata": {
    "id": "LTmQGJd0dcXK"
   },
   "outputs": [],
   "source": [
    "#y_predict1= kmeans.fit(x)\n",
    "#print(y_predict1.predict([[160\t,2.0\t]]))"
   ]
  },
  {
   "cell_type": "code",
   "execution_count": 15,
   "metadata": {
    "colab": {
     "base_uri": "https://localhost:8080/",
     "height": 295
    },
    "id": "EW6PWzkTaSFf",
    "outputId": "3b78b00f-a0d4-4e76-bfcc-b7d339ecb0d6"
   },
   "outputs": [
    {
     "data": {
      "image/png": "[encoded data removed]",
      "text/plain": [
       "<Figure size 432x288 with 1 Axes>"
      ]
     },
     "metadata": {
      "needs_background": "light"
     },
     "output_type": "display_data"
    }
   ],
   "source": [
    "#visulaizing the clusters  \n",
    "mtp.scatter(x[y_predict == 1, 0], x[y_predict == 1, 1], s = 100, c = 'green', label = 'Cluster 1') #for first cluster \n",
    "mtp.scatter(x[y_predict == 0, 0], x[y_predict == 0, 1], s = 100, c = 'blue', label = 'Cluster 2') #for Second cluster  \n",
    "mtp.scatter(x[y_predict== 2, 0], x[y_predict == 2, 1], s = 100, c = 'red', label = 'Cluster 3') #for third cluster  \n",
    "mtp.scatter(kmeans.cluster_centers_[:, 0], kmeans.cluster_centers_[:, 1], s = 300, c = 'yellow', label = 'Centroid')   \n",
    "mtp.title('Clusters ')  \n",
    "mtp.xlabel('Calories')  \n",
    "mtp.ylabel('Protiens')  \n",
    "mtp.legend()  \n",
    "mtp.show()  "
   ]
  },
  {
   "cell_type": "code",
   "execution_count": 16,
   "metadata": {
    "id": "N6-p-0Wue88V"
   },
   "outputs": [],
   "source": [
    "cosine_sim = linear_kernel(nutrientData,nutrientData)"
   ]
  },
  {
   "cell_type": "code",
   "execution_count": 17,
   "metadata": {
    "colab": {
     "base_uri": "https://localhost:8080/"
    },
    "id": "Jd5diA5aiz9J",
    "outputId": "d5bbeaa1-60fc-441e-f2eb-0ff75db261e6"
   },
   "outputs": [
    {
     "data": {
      "text/plain": [
       "array([ 51414.1281, 112591.4605,  82397.0366, ...,  58030.4546,\n",
       "        64085.4294,  62050.012 ])"
      ]
     },
     "execution_count": 17,
     "metadata": {},
     "output_type": "execute_result"
    }
   ],
   "source": [
    "cosine_sim[0]"
   ]
  },
  {
   "cell_type": "code",
   "execution_count": 18,
   "metadata": {
    "colab": {
     "base_uri": "https://localhost:8080/",
     "height": 424
    },
    "id": "JlPQCA1SmmN-",
    "outputId": "29d74307-3465-4ed8-87ef-8e6fc441e333"
   },
   "outputs": [
    {
     "data": {
      "text/html": [
       "<div>\n",
       "<style scoped>\n",
       "    .dataframe tbody tr th:only-of-type {\n",
       "        vertical-align: middle;\n",
       "    }\n",
       "\n",
       "    .dataframe tbody tr th {\n",
       "        vertical-align: top;\n",
       "    }\n",
       "\n",
       "    .dataframe thead th {\n",
       "        text-align: right;\n",
       "    }\n",
       "</style>\n",
       "<table border=\"1\" class=\"dataframe\">\n",
       "  <thead>\n",
       "    <tr style=\"text-align: right;\">\n",
       "      <th></th>\n",
       "      <th>Food_items</th>\n",
       "      <th>Calories</th>\n",
       "      <th>Fats</th>\n",
       "      <th>Proteins</th>\n",
       "      <th>Iron</th>\n",
       "      <th>Calcium</th>\n",
       "      <th>Sodium</th>\n",
       "      <th>Potassium</th>\n",
       "      <th>Carbohydrates</th>\n",
       "      <th>Fibre</th>\n",
       "      <th>VitaminD</th>\n",
       "      <th>Sugars</th>\n",
       "    </tr>\n",
       "  </thead>\n",
       "  <tbody>\n",
       "    <tr>\n",
       "      <th>0</th>\n",
       "      <td>Asparagus Cooked</td>\n",
       "      <td>22</td>\n",
       "      <td>0.2</td>\n",
       "      <td>2.40</td>\n",
       "      <td>0.91</td>\n",
       "      <td>23.0</td>\n",
       "      <td>14</td>\n",
       "      <td>224.0</td>\n",
       "      <td>4.10</td>\n",
       "      <td>2.0</td>\n",
       "      <td>0</td>\n",
       "      <td>1.3</td>\n",
       "    </tr>\n",
       "    <tr>\n",
       "      <th>1</th>\n",
       "      <td>Avocados</td>\n",
       "      <td>160</td>\n",
       "      <td>15.0</td>\n",
       "      <td>2.00</td>\n",
       "      <td>0.55</td>\n",
       "      <td>12.0</td>\n",
       "      <td>7</td>\n",
       "      <td>485.0</td>\n",
       "      <td>8.50</td>\n",
       "      <td>6.7</td>\n",
       "      <td>0</td>\n",
       "      <td>0.7</td>\n",
       "    </tr>\n",
       "    <tr>\n",
       "      <th>2</th>\n",
       "      <td>Bananas</td>\n",
       "      <td>89</td>\n",
       "      <td>0.3</td>\n",
       "      <td>1.10</td>\n",
       "      <td>0.26</td>\n",
       "      <td>5.0</td>\n",
       "      <td>1</td>\n",
       "      <td>358.0</td>\n",
       "      <td>23.00</td>\n",
       "      <td>2.6</td>\n",
       "      <td>0</td>\n",
       "      <td>12.0</td>\n",
       "    </tr>\n",
       "    <tr>\n",
       "      <th>3</th>\n",
       "      <td>Bagels made in wheat</td>\n",
       "      <td>250</td>\n",
       "      <td>1.5</td>\n",
       "      <td>10.00</td>\n",
       "      <td>2.76</td>\n",
       "      <td>20.0</td>\n",
       "      <td>439</td>\n",
       "      <td>165.0</td>\n",
       "      <td>49.00</td>\n",
       "      <td>4.1</td>\n",
       "      <td>0</td>\n",
       "      <td>6.1</td>\n",
       "    </tr>\n",
       "    <tr>\n",
       "      <th>4</th>\n",
       "      <td>Berries</td>\n",
       "      <td>349</td>\n",
       "      <td>0.4</td>\n",
       "      <td>14.00</td>\n",
       "      <td>6.80</td>\n",
       "      <td>190.0</td>\n",
       "      <td>298</td>\n",
       "      <td>77.0</td>\n",
       "      <td>77.00</td>\n",
       "      <td>13.0</td>\n",
       "      <td>0</td>\n",
       "      <td>46.0</td>\n",
       "    </tr>\n",
       "    <tr>\n",
       "      <th>...</th>\n",
       "      <td>...</td>\n",
       "      <td>...</td>\n",
       "      <td>...</td>\n",
       "      <td>...</td>\n",
       "      <td>...</td>\n",
       "      <td>...</td>\n",
       "      <td>...</td>\n",
       "      <td>...</td>\n",
       "      <td>...</td>\n",
       "      <td>...</td>\n",
       "      <td>...</td>\n",
       "      <td>...</td>\n",
       "    </tr>\n",
       "    <tr>\n",
       "      <th>3125</th>\n",
       "      <td>Rice, unenriched, raw, medium-grain, white</td>\n",
       "      <td>360</td>\n",
       "      <td>0.6</td>\n",
       "      <td>6.61</td>\n",
       "      <td>0.80</td>\n",
       "      <td>9.0</td>\n",
       "      <td>1</td>\n",
       "      <td>86.0</td>\n",
       "      <td>79.34</td>\n",
       "      <td>0.0</td>\n",
       "      <td>0</td>\n",
       "      <td>0.0</td>\n",
       "    </tr>\n",
       "    <tr>\n",
       "      <th>3126</th>\n",
       "      <td>Pasta, cooked, spinach, fresh-refrigerated</td>\n",
       "      <td>130</td>\n",
       "      <td>0.9</td>\n",
       "      <td>5.06</td>\n",
       "      <td>1.11</td>\n",
       "      <td>18.0</td>\n",
       "      <td>6</td>\n",
       "      <td>37.0</td>\n",
       "      <td>25.04</td>\n",
       "      <td>0.0</td>\n",
       "      <td>0</td>\n",
       "      <td>0.0</td>\n",
       "    </tr>\n",
       "    <tr>\n",
       "      <th>3127</th>\n",
       "      <td>Restaurant, general tso's chicken, Chinese</td>\n",
       "      <td>295</td>\n",
       "      <td>16.0</td>\n",
       "      <td>12.90</td>\n",
       "      <td>1.16</td>\n",
       "      <td>12.0</td>\n",
       "      <td>435</td>\n",
       "      <td>201.0</td>\n",
       "      <td>23.99</td>\n",
       "      <td>0.9</td>\n",
       "      <td>6</td>\n",
       "      <td>11.6</td>\n",
       "    </tr>\n",
       "    <tr>\n",
       "      <th>3128</th>\n",
       "      <td>Chicken, raw, meat only, cornish game hens</td>\n",
       "      <td>116</td>\n",
       "      <td>3.3</td>\n",
       "      <td>20.04</td>\n",
       "      <td>0.74</td>\n",
       "      <td>12.0</td>\n",
       "      <td>68</td>\n",
       "      <td>269.0</td>\n",
       "      <td>0.00</td>\n",
       "      <td>0.0</td>\n",
       "      <td>0</td>\n",
       "      <td>0.0</td>\n",
       "    </tr>\n",
       "    <tr>\n",
       "      <th>3129</th>\n",
       "      <td>WENDY'S, Homestyle Chicken Fillet Sandwich</td>\n",
       "      <td>214</td>\n",
       "      <td>8.1</td>\n",
       "      <td>13.78</td>\n",
       "      <td>1.50</td>\n",
       "      <td>23.0</td>\n",
       "      <td>401</td>\n",
       "      <td>228.0</td>\n",
       "      <td>21.55</td>\n",
       "      <td>1.3</td>\n",
       "      <td>0</td>\n",
       "      <td>0.0</td>\n",
       "    </tr>\n",
       "  </tbody>\n",
       "</table>\n",
       "<p>3130 rows × 12 columns</p>\n",
       "</div>"
      ],
      "text/plain": [
       "                                      Food_items  Calories  Fats  Proteins  \\\n",
       "0                               Asparagus Cooked        22   0.2      2.40   \n",
       "1                                       Avocados       160  15.0      2.00   \n",
       "2                                        Bananas        89   0.3      1.10   \n",
       "3                           Bagels made in wheat       250   1.5     10.00   \n",
       "4                                        Berries       349   0.4     14.00   \n",
       "...                                          ...       ...   ...       ...   \n",
       "3125  Rice, unenriched, raw, medium-grain, white       360   0.6      6.61   \n",
       "3126  Pasta, cooked, spinach, fresh-refrigerated       130   0.9      5.06   \n",
       "3127  Restaurant, general tso's chicken, Chinese       295  16.0     12.90   \n",
       "3128  Chicken, raw, meat only, cornish game hens       116   3.3     20.04   \n",
       "3129  WENDY'S, Homestyle Chicken Fillet Sandwich       214   8.1     13.78   \n",
       "\n",
       "      Iron  Calcium  Sodium  Potassium  Carbohydrates  Fibre  VitaminD  Sugars  \n",
       "0     0.91     23.0      14      224.0           4.10    2.0         0     1.3  \n",
       "1     0.55     12.0       7      485.0           8.50    6.7         0     0.7  \n",
       "2     0.26      5.0       1      358.0          23.00    2.6         0    12.0  \n",
       "3     2.76     20.0     439      165.0          49.00    4.1         0     6.1  \n",
       "4     6.80    190.0     298       77.0          77.00   13.0         0    46.0  \n",
       "...    ...      ...     ...        ...            ...    ...       ...     ...  \n",
       "3125  0.80      9.0       1       86.0          79.34    0.0         0     0.0  \n",
       "3126  1.11     18.0       6       37.0          25.04    0.0         0     0.0  \n",
       "3127  1.16     12.0     435      201.0          23.99    0.9         6    11.6  \n",
       "3128  0.74     12.0      68      269.0           0.00    0.0         0     0.0  \n",
       "3129  1.50     23.0     401      228.0          21.55    1.3         0     0.0  \n",
       "\n",
       "[3130 rows x 12 columns]"
      ]
     },
     "execution_count": 18,
     "metadata": {},
     "output_type": "execute_result"
    }
   ],
   "source": [
    "smd = dataset.iloc[:,[0,4,5,6,7,8,9,10,11,12,13,14]]\n",
    "smd"
   ]
  },
  {
   "cell_type": "code",
   "execution_count": 19,
   "metadata": {
    "colab": {
     "base_uri": "https://localhost:8080/"
    },
    "id": "ErxCaZIbk5fY",
    "outputId": "e596b5ab-4253-4f27-ce5a-1e33cf2468f9"
   },
   "outputs": [
    {
     "data": {
      "text/plain": [
       "Food_items\n",
       "Asparagus Cooked                                 0\n",
       "Avocados                                         1\n",
       "Bananas                                          2\n",
       "Bagels made in wheat                             3\n",
       "Berries                                          4\n",
       "                                              ... \n",
       "Rice, unenriched, raw, medium-grain, white    3125\n",
       "Pasta, cooked, spinach, fresh-refrigerated    3126\n",
       "Restaurant, general tso's chicken, Chinese    3127\n",
       "Chicken, raw, meat only, cornish game hens    3128\n",
       "WENDY'S, Homestyle Chicken Fillet Sandwich    3129\n",
       "Length: 3130, dtype: int64"
      ]
     },
     "execution_count": 19,
     "metadata": {},
     "output_type": "execute_result"
    }
   ],
   "source": [
    "titles = smd['Food_items']\n",
    "indices = pd.Series(smd.index, index=smd['Food_items'])\n",
    "indices"
   ]
  },
  {
   "cell_type": "code",
   "execution_count": 20,
   "metadata": {
    "id": "aEN72mtPi27I"
   },
   "outputs": [],
   "source": [
    "def get_recommendations(title):\n",
    "    idx = indices[title]\n",
    "    sim_scores = list(enumerate(cosine_sim[idx]))\n",
    "    sim_scores = sorted(sim_scores, key=lambda x: x[1], reverse=True)\n",
    "    sim_scores = sim_scores[1:11]\n",
    "    print('sim_scores',sim_scores)\n",
    "    food_items = [i[0] for i in sim_scores]\n",
    "    print('food_items',food_items)\n",
    "    return titles.iloc[food_items]"
   ]
  },
  {
   "cell_type": "code",
   "execution_count": 21,
   "metadata": {
    "colab": {
     "base_uri": "https://localhost:8080/"
    },
    "id": "fO35deCskctR",
    "outputId": "11deb0c6-2dec-4e46-a532-c2711571fdfb"
   },
   "outputs": [
    {
     "name": "stdout",
     "output_type": "stream",
     "text": [
      "sim_scores [(2923, 2982321.094), (1403, 2354168.5325), (833, 2227735.8320000004), (283, 2197120.2465), (2967, 1773581.2255), (1223, 1748198.9005), (3066, 1731348.2965), (340, 1706104.9024999999), (1297, 1668422.3390000002), (1686, 1591490.719)]\n",
      "food_items [2923, 1403, 833, 283, 2967, 1223, 3066, 340, 1297, 1686]\n"
     ]
    },
    {
     "data": {
      "text/plain": [
       "2923    Beverages, powder, unsweetened, instant, tea\n",
       "1403                          Spices, dried, chervil\n",
       "833                    Spices, dried, coriander leaf\n",
       "283                             Celery flakes, dried\n",
       "2967     Beverages, powder, regular, instant, coffee\n",
       "1223                       Radishes, dried, oriental\n",
       "3066     Beverages, unsweetened, lemon, instant, tea\n",
       "340                              Tomatoes, sun-dried\n",
       "1297                        Spices, dried, dill weed\n",
       "1686               Peppers, freeze-dried, red, sweet\n",
       "Name: Food_items, dtype: object"
      ]
     },
     "execution_count": 21,
     "metadata": {},
     "output_type": "execute_result"
    }
   ],
   "source": [
    "get_recommendations('Avocados').head(10)"
   ]
  },
  {
   "cell_type": "code",
   "execution_count": 22,
   "metadata": {
    "id": "4cisPksW5frn"
   },
   "outputs": [],
   "source": [
    "rfcx=nutrientData\n",
    "rfcy = fooditemlist"
   ]
  },
  {
   "cell_type": "code",
   "execution_count": 23,
   "metadata": {
    "colab": {
     "base_uri": "https://localhost:8080/"
    },
    "id": "FVAoY3Eh9sEw",
    "outputId": "89312379-28fb-4337-9353-0da2a8b2c00c"
   },
   "outputs": [
    {
     "name": "stdout",
     "output_type": "stream",
     "text": [
      "[2.20e+01 2.00e-01 2.40e+00 9.10e-01 2.30e+01 1.40e+01 2.24e+02 4.10e+00\n",
      " 2.00e+00 0.00e+00 1.30e+00]\n"
     ]
    }
   ],
   "source": [
    "print(rfcx[0])"
   ]
  },
  {
   "cell_type": "code",
   "execution_count": 24,
   "metadata": {
    "colab": {
     "base_uri": "https://localhost:8080/"
    },
    "id": "eQIu98Qj669o",
    "outputId": "6e255cbe-fe00-409f-d255-6ddfc3ccdbc7"
   },
   "outputs": [
    {
     "data": {
      "text/plain": [
       "RandomForestClassifier(max_depth=25)"
      ]
     },
     "execution_count": 24,
     "metadata": {},
     "output_type": "execute_result"
    }
   ],
   "source": [
    "rfc= RandomForestClassifier(max_depth=25)\n",
    "rfc.fit(rfcx,rfcy)"
   ]
  },
  {
   "cell_type": "code",
   "execution_count": 25,
   "metadata": {
    "id": "wcJVCCC5OnDZ"
   },
   "outputs": [],
   "source": [
    "import pickle\n",
    "pickle.dump(rfc,open('rfc.pkl','wb'))"
   ]
  },
  {
   "cell_type": "code",
   "execution_count": null,
   "metadata": {
    "colab": {
     "base_uri": "https://localhost:8080/"
    },
    "id": "NfhdICxa7ZXt",
    "outputId": "1d652d6e-0ff9-4002-8877-736975835208"
   },
   "outputs": [
    {
     "data": {
      "text/plain": [
       "0.9253968253968254"
      ]
     },
     "execution_count": 27,
     "metadata": {},
     "output_type": "execute_result"
    }
   ],
   "source": [
    "y_pred_test = rfc.predict(rfcx)\n",
    "accuracy_score(rfcy, y_pred_test)"
   ]
  },
  {
   "cell_type": "code",
   "execution_count": null,
   "metadata": {
    "id": "ay2T4eTywkmK"
   },
   "outputs": [],
   "source": [
    "def Diff(list1,list2):\n",
    "  sublist=[]\n",
    "  for i in range(len(list1)):\n",
    "    sublist.append(list1[i]-list2[i])\n",
    "  return sublist"
   ]
  },
  {
   "cell_type": "code",
   "execution_count": null,
   "metadata": {
    "id": "s82ICjiqhOHR"
   },
   "outputs": [],
   "source": [
    "from math import*\n",
    "from decimal import Decimal\n",
    "  \n",
    "def nth_root(value, n_root):\n",
    " root_value = 1/float(n_root)\n",
    " return round (Decimal(value) ** Decimal(root_value),3)\n",
    "  \n",
    "def checkRequirement(x,y,p_value,init):\n",
    "  remain = nth_root(sum(pow(abs(a-b),p_value) for a,b in zip(x, y)),p_value)\n",
    "  initial = nth_root(sum(pow(abs(a-b),p_value) for a,b in zip(init, y)),p_value)\n",
    "  if(remain <= float(initial)*0.2):\n",
    "    return True\n",
    "  else:\n",
    "    return False"
   ]
  },
  {
   "cell_type": "code",
   "execution_count": null,
   "metadata": {
    "id": "hzai67uAI0Ci"
   },
   "outputs": [],
   "source": [
    "def getfooditems(initialItem,smd):\n",
    "  predictItems=[]\n",
    "  epoch=0\n",
    "  remainbf = initialItem\n",
    "  \n",
    "  while(True):\n",
    "    if(epoch==3):\n",
    "      break\n",
    "    if(checkRequirement(remainbf,[0,0,0,0,0,0,0,0,0,0,0],3,initialItem)):\n",
    "      break\n",
    "    bfpred = rfc.predict([remainbf])\n",
    "    predictItems.append(bfpred)\n",
    "    yo = smd['Food_items'].values ==bfpred\n",
    "    n = smd[yo] \n",
    "    print('N1',n)\n",
    "    n=n.values.tolist()\n",
    "    n=n[0][1:]\n",
    "    print('N2',n)\n",
    "    remainbf = Diff(remainbf,n)\n",
    "    epoch=epoch+1\n",
    "  return(predictItems)\n"
   ]
  },
  {
   "cell_type": "code",
   "execution_count": null,
   "metadata": {
    "id": "nxJX3b173PVu"
   },
   "outputs": [],
   "source": [
    "required = [2500,\t170\t,160.00\t,25\t,27.0\t,950\t,280.0,\t125.00\t,12.1,\t0,\t14.1]"
   ]
  },
  {
   "cell_type": "code",
   "execution_count": null,
   "metadata": {
    "id": "hGNYbxsN3kJo"
   },
   "outputs": [],
   "source": [
    "breakfastCalRequirment = [x * 0.2 for x in required]\n",
    "lunchCalRequirment = [x * 0.30 for x in required]\n",
    "dinnerCalRequirment = [x * 0.50 for x in required]"
   ]
  },
  {
   "cell_type": "code",
   "execution_count": null,
   "metadata": {
    "colab": {
     "base_uri": "https://localhost:8080/"
    },
    "id": "XYkRJVNV9WEk",
    "outputId": "2514fcf1-8a9b-42f0-a158-da0396489870"
   },
   "outputs": [
    {
     "name": "stdout",
     "output_type": "stream",
     "text": [
      "N1                    Food_items  Calories  Fats  ...  Fibre  VitaminD  Sugars\n",
      "1376  Cheese, hard type, goat       452  36.0  ...    0.0        26    2.17\n",
      "\n",
      "[1 rows x 12 columns]\n",
      "N2 [452, 36.0, 30.52, 1.88, 895.0, 423, 48.0, 2.17, 0.0, 26, 2.17]\n",
      "N1                                Food_items  Calories  ...  VitaminD  Sugars\n",
      "2753  Gravy, fat free, turkey, CAMPBELL'S        33  ...         0     0.0\n",
      "\n",
      "[1 rows x 12 columns]\n",
      "N2 [33, 0.0, 1.67, 0.0, 0.0, 0, 0.0, 6.67, 0.0, 0, 0.0]\n",
      "N1                                   Food_items  Calories  ...  VitaminD  Sugars\n",
      "2435  Beverages, Kiwi Strawberry Juice Drink        47  ...         0   11.63\n",
      "\n",
      "[1 rows x 12 columns]\n",
      "N2 [47, 0.0, 0.0, 0.15, 0.0, 11, 14.0, 12.26, 0.0, 0, 11.63]\n",
      "N1                     Food_items  Calories  Fats  ...  Fibre  VitaminD  Sugars\n",
      "1319  Seeds, hulled, hemp seed       553  49.0  ...    4.0         0     1.5\n",
      "\n",
      "[1 rows x 12 columns]\n",
      "N2 [553, 49.0, 31.56, 7.95, 70.0, 5, 1200.0, 8.67, 4.0, 0, 1.5]\n",
      "N1                             Food_items  Calories  Fats  ...  Fibre  VitaminD  Sugars\n",
      "1822  Mashu roots, raw (Alaska Native)       135   2.4  ...    0.0         0     0.0\n",
      "\n",
      "[1 rows x 12 columns]\n",
      "N2 [135, 2.4, 5.8, 0.0, 0.0, 0, 0.0, 22.6, 0.0, 0, 0.0]\n",
      "N1                                  Food_items  Calories  ...  VitaminD  Sugars\n",
      "2455  Rhubarb, leaves (Alaska Native), wild        61  ...         0     0.0\n",
      "\n",
      "[1 rows x 12 columns]\n",
      "N2 [61, 0.5, 4.2, 0.0, 0.0, 0, 0.0, 9.9, 0.0, 0, 0.0]\n",
      "N1             Food_items  Calories  Fats  ...  Fibre  VitaminD  Sugars\n",
      "478  Egg, dried, white       382   0.0  ...    0.0         0     5.4\n",
      "\n",
      "[1 rows x 12 columns]\n",
      "N2 [382, 0.0, 81.1, 0.15, 62.0, 1280, 1125.0, 7.8, 0.0, 0, 5.4]\n",
      "N1                        Food_items  Calories   Fats  ...  Fibre  VitaminD  Sugars\n",
      "933  Oil, and olive, peanut, corn       884  100.0  ...    0.0         0     0.0\n",
      "\n",
      "[1 rows x 12 columns]\n",
      "N2 [884, 100.0, 0.0, 0.13, 0.0, 0, 0.0, 0.0, 0.0, 0, 0.0]\n",
      "N1                   Food_items  Calories  Fats  ...  Fibre  VitaminD  Sugars\n",
      "1400  Beverages, cola, ZEVIA         0   0.0  ...    0.0         0     0.0\n",
      "\n",
      "[1 rows x 12 columns]\n",
      "N2 [0, 0.0, 0.0, 0.0, 0.0, 6, 0.0, 1.13, 0.0, 0, 0.0]\n"
     ]
    }
   ],
   "source": [
    "#print('For BreakFast')\n",
    "breakfastrecom = getfooditems(breakfastCalRequirment,smd)\n",
    "#print('For lUNCH')\n",
    "lunchrecom = getfooditems(lunchCalRequirment,smd)\n",
    "#print('For Dinner')\n",
    "dinnerrecom = getfooditems(dinnerCalRequirment,smd)\n",
    "\n",
    "\n"
   ]
  },
  {
   "cell_type": "code",
   "execution_count": null,
   "metadata": {
    "colab": {
     "base_uri": "https://localhost:8080/"
    },
    "id": "nXSQxIF1qLxG",
    "outputId": "018fb54b-7bbc-4940-9dba-ff5628dc9a4d"
   },
   "outputs": [
    {
     "name": "stdout",
     "output_type": "stream",
     "text": [
      "[2500, 170, 160.0, 25, 27.0, 950, 280.0, 125.0, 12.1, 0, 14.1]\n",
      "######Breakfast#######\n",
      "Cheese, hard type, goat\n",
      "##########More#####\n",
      "sim_scores [(2350, 14412259.377600001), (861, 11573280.0), (1982, 10430167.3026), (2573, 10403097.1525), (953, 10302626.612100001), (389, 5182638.9213), (3027, 4443988.5846), (1295, 4117298.5276), (176, 3692534.7320000003), (938, 3497915.5485)]\n",
      "food_items [2350, 861, 1982, 2573, 953, 389, 3027, 1295, 176, 938]\n",
      "2350    Desserts, unsweetened, tablets, rennin\n",
      "861              Leavening agents, baking soda\n",
      "Name: Food_items, dtype: object\n",
      "Gravy, fat free, turkey, CAMPBELL'S\n",
      "##########More#####\n",
      "sim_scores [(382, 29766.0), (407, 29766.0), (444, 29766.0), (445, 29766.0), (511, 29766.0), (519, 29766.0), (765, 29766.0), (2342, 29766.0), (699, 29700.0), (710, 29700.0)]\n",
      "food_items [382, 407, 444, 445, 511, 519, 765, 2342, 699, 710]\n",
      "382    Fish oil, menhaden\n",
      "407    Fat, mutton tallow\n",
      "Name: Food_items, dtype: object\n",
      "Beverages, Kiwi Strawberry Juice Drink\n",
      "##########More#####\n",
      "sim_scores [(861, 300960.0), (2350, 294829.80850000004), (2573, 279922.8539), (1982, 278830.3905), (953, 277998.4718), (1732, 244452.54799999998), (3027, 147525.2195), (389, 146668.6224), (176, 113058.0252), (2459, 111339.375)]\n",
      "food_items [861, 2350, 2573, 1982, 953, 1732, 3027, 389, 176, 2459]\n",
      "861              Leavening agents, baking soda\n",
      "2350    Desserts, unsweetened, tablets, rennin\n",
      "Name: Food_items, dtype: object\n",
      "######Lunch#######\n",
      "Seeds, hulled, hemp seed\n",
      "##########More#####\n",
      "sim_scores [(3027, 12477834.1305), (198, 7726307.3676), (2941, 7432021.6718), (1405, 5915344.1915), (834, 5603531.0798), (283, 5491511.1055), (2985, 4448362.3095), (1225, 4389121.1254), (3086, 4337576.854900001), (340, 4264562.6013)]\n",
      "food_items [3027, 198, 2941, 1405, 834, 283, 2985, 1225, 3086, 340]\n",
      "3027    Leavening agents, low-sodium, baking powder\n",
      "198                           Parsley, freeze-dried\n",
      "Name: Food_items, dtype: object\n",
      "Mashu roots, raw (Alaska Native)\n",
      "##########More#####\n",
      "sim_scores [(382, 122010.0), (407, 122010.0), (444, 122010.0), (445, 122010.0), (511, 122010.0), (519, 122010.0), (765, 122010.0), (2342, 122010.0), (699, 121740.0), (710, 121740.0)]\n",
      "food_items [382, 407, 444, 445, 511, 519, 765, 2342, 699, 710]\n",
      "382    Fish oil, menhaden\n",
      "407    Fat, mutton tallow\n",
      "Name: Food_items, dtype: object\n",
      "Rhubarb, leaves (Alaska Native), wild\n",
      "##########More#####\n",
      "sim_scores [(382, 55072.0), (407, 55072.0), (444, 55072.0), (445, 55072.0), (511, 55072.0), (519, 55072.0), (765, 55072.0), (2342, 55072.0), (699, 54950.0), (710, 54950.0)]\n",
      "food_items [382, 407, 444, 445, 511, 519, 765, 2342, 699, 710]\n",
      "382    Fish oil, menhaden\n",
      "407    Fat, mutton tallow\n",
      "Name: Food_items, dtype: object\n",
      "######Dinner#######\n",
      "Egg, dried, white\n",
      "##########More#####\n",
      "sim_scores [(861, 35020800.0), (2350, 33936270.600499995), (953, 31243642.298499998), (1982, 31229533.6405), (2573, 31022798.502499998), (1732, 18728592.257999998), (389, 15275878.937), (1295, 12420897.3905), (3027, 11783713.1555), (176, 11212736.4715)]\n",
      "food_items [861, 2350, 953, 1982, 2573, 1732, 389, 1295, 3027, 176]\n",
      "861              Leavening agents, baking soda\n",
      "2350    Desserts, unsweetened, tablets, rennin\n",
      "Name: Food_items, dtype: object\n",
      "Oil, and olive, peanut, corn\n",
      "##########More#####\n",
      "sim_scores [(382, 807368.0), (407, 807368.0), (444, 807368.0), (445, 807368.0), (511, 807368.0), (519, 807368.0), (765, 807368.0), (2342, 807368.0), (2701, 805600.0065), (699, 805600.0)]\n",
      "food_items [382, 407, 444, 445, 511, 519, 765, 2342, 2701, 699]\n",
      "382    Fish oil, menhaden\n",
      "407    Fat, mutton tallow\n",
      "Name: Food_items, dtype: object\n",
      "Beverages, cola, ZEVIA\n",
      "##########More#####\n",
      "sim_scores [(861, 164160.0), (2350, 156322.374), (1982, 144026.555), (953, 144018.193), (2573, 143270.3513), (389, 69581.6637), (1295, 58140.0), (938, 48471.6077), (176, 48259.5291), (1018, 47110.1132)]\n",
      "food_items [861, 2350, 1982, 953, 2573, 389, 1295, 938, 176, 1018]\n",
      "861              Leavening agents, baking soda\n",
      "2350    Desserts, unsweetened, tablets, rennin\n",
      "Name: Food_items, dtype: object\n"
     ]
    }
   ],
   "source": [
    "print(required)\n",
    "print('######Breakfast#######')\n",
    "for i in breakfastrecom:\n",
    "  print(i[0])\n",
    "  print('##########More#####')\n",
    "  print(get_recommendations(i[0])[0:2])\n",
    "print('######Lunch#######')\n",
    "for i in lunchrecom:\n",
    "  print(i[0])\n",
    "  print('##########More#####')\n",
    "  print(get_recommendations(i[0])[0:2])\n",
    "print('######Dinner#######')\n",
    "for i in dinnerrecom:\n",
    "  print(i[0])\n",
    "  print('##########More#####')\n",
    "  print(get_recommendations(i[0])[0:2])"
   ]
  },
  {
   "cell_type": "code",
   "execution_count": null,
   "metadata": {
    "id": "aP4EwE_Wxsrv"
   },
   "outputs": [],
   "source": []
  }
 ],
 "metadata": {
  "colab": {
   "collapsed_sections": [],
   "name": "recommendation.ipynb",
   "provenance": []
  },
  "kernelspec": {
   "display_name": "Python 3 (ipykernel)",
   "language": "python",
   "name": "python3"
  },
  "language_info": {
   "codemirror_mode": {
    "name": "ipython",
    "version": 3
   },
   "file_extension": ".py",
   "mimetype": "text/x-python",
   "name": "python",
   "nbconvert_exporter": "python",
   "pygments_lexer": "ipython3",
   "version": "3.8.3"
  }
 },
 "nbformat": 4,
 "nbformat_minor": 1
}
